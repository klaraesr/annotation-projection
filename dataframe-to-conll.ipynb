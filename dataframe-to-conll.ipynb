{
 "cells": [
  {
   "cell_type": "code",
   "execution_count": null,
   "metadata": {},
   "outputs": [],
   "source": [
    "import pandas as pd\n",
    "from IPython.core.display import display"
   ]
  },
  {
   "cell_type": "code",
   "execution_count": null,
   "metadata": {
    "pycharm": {
     "name": "#%%\n"
    }
   },
   "outputs": [],
   "source": [
    "pkl_src_path = '../data/dataframes/eng_suc_sim' #'../data/dataframes/coref_with_translations_1000.pkl'\n",
    "conll_file_dest_path = '../allennlp-model/data/test/test_sim.english.conll' #'../allennlp-model/data/train/train.english_1000.conll'"
   ]
  },
  {
   "cell_type": "code",
   "execution_count": null,
   "outputs": [],
   "source": [
    "df = pd.read_pickle(pkl_src_path)\n",
    "display(df)"
   ],
   "metadata": {
    "collapsed": false,
    "pycharm": {
     "name": "#%%\n"
    }
   }
  },
  {
   "cell_type": "code",
   "execution_count": null,
   "metadata": {
    "pycharm": {
     "name": "#%%\n"
    }
   },
   "outputs": [],
   "source": [
    "def insert_or_append(d, key, value):\n",
    "    if key in d:\n",
    "        d[key] = d.get(key) + '|' + value\n",
    "    else:\n",
    "        d[key] = value\n",
    "    return d\n",
    "\n",
    "coref_clusters = df['Coref_Clusters']\n",
    "conll_coref_dicts = []\n",
    "\n",
    "for clusters in coref_clusters:\n",
    "    conll_cluster_count = 0\n",
    "    conll_coref_dict = {}\n",
    "    for cluster in clusters:\n",
    "        for [span_start, span_end] in cluster:\n",
    "            conll_value = ''\n",
    "            if span_start == span_end:\n",
    "                conll_value = '(' + str(conll_cluster_count) + ')'\n",
    "                insert_or_append(conll_coref_dict, span_start, conll_value)\n",
    "            else:\n",
    "                conll_start_value = '(' + str(conll_cluster_count)\n",
    "                conll_end_value = str(conll_cluster_count) + ')'\n",
    "                insert_or_append(conll_coref_dict, span_start, conll_start_value)\n",
    "                insert_or_append(conll_coref_dict, span_end, conll_end_value)\n",
    "        conll_cluster_count += 1\n",
    "    conll_coref_dicts.append(conll_coref_dict)\n"
   ]
  },
  {
   "cell_type": "code",
   "execution_count": null,
   "metadata": {
    "pycharm": {
     "name": "#%%\n"
    }
   },
   "outputs": [],
   "source": [
    "path = conll_file_dest_path\n",
    "texts = df['Text']\n",
    "full_ids = df['Text_ID']\n",
    "print(len(conll_coref_dicts))\n",
    "with open(path, 'w') as file:\n",
    "    for text, full_id, corefs in zip(texts, full_ids, conll_coref_dicts):\n",
    "        try:\n",
    "            [doc_id, text_id] = full_id.split('-')\n",
    "            text_idx = 0\n",
    "            file.write('#begin document (%s); part %s\\n' %(doc_id, text_id.zfill(3)))\n",
    "            for sentence in text:\n",
    "               padding = len(max(sentence, key=len))\n",
    "               for idx, word in enumerate(sentence):\n",
    "                   coref = corefs.get(text_idx, '-')\n",
    "                   file.write(doc_id + '\\t')\n",
    "                   file.write(text_id + '\\t')\n",
    "                   file.write(str(idx) + '\\t')\n",
    "                   file.write('{:{padding}s}'.format(word, padding=padding+1))\n",
    "                   file.write('XX\\t')\n",
    "                   file.write('-' + '\\t' + '-' + '\\t' + '-' + '\\t' + '-' + '\\t' + '-' + '\\t')\n",
    "                   # file.write('{:40s}'.format(df.loc[i, 'Speaker']))\n",
    "                   file.write('*' + '\\t' + '*' + '\\t')\n",
    "                   file.write(coref)\n",
    "                   file.write('\\n')\n",
    "                   text_idx += 1\n",
    "               file.write('\\n')\n",
    "            file.write('\\n#end document\\n')\n",
    "        except:\n",
    "            print(text)"
   ]
  },
  {
   "cell_type": "code",
   "execution_count": null,
   "metadata": {},
   "outputs": [],
   "source": []
  }
 ],
 "metadata": {
  "kernelspec": {
   "display_name": "Python 3",
   "language": "python",
   "name": "python3"
  },
  "language_info": {
   "codemirror_mode": {
    "name": "ipython",
    "version": 3
   },
   "file_extension": ".py",
   "mimetype": "text/x-python",
   "name": "python",
   "nbconvert_exporter": "python",
   "pygments_lexer": "ipython3",
   "version": "3.7.10"
  }
 },
 "nbformat": 4,
 "nbformat_minor": 1
}