{
 "cells": [
  {
   "cell_type": "code",
   "execution_count": 1,
   "outputs": [],
   "source": [
    "import glob\n",
    "import re\n",
    "import pandas as pd\n",
    "from IPython.core.display import display"
   ],
   "metadata": {
    "collapsed": false,
    "pycharm": {
     "name": "#%%\n"
    }
   }
  },
  {
   "cell_type": "code",
   "execution_count": 2,
   "outputs": [
    {
     "name": "stdout",
     "output_type": "stream",
     "text": [
      "Empty DataFrame\n",
      "Columns: [Doc_ID, Text_ID, Text, Coref_Clusters]\n",
      "Index: []\n"
     ]
    }
   ],
   "source": [
    "coref_df = pd.DataFrame(columns=['Doc_ID', 'Text_ID', 'Text', 'Coref_Clusters'])\n",
    "print(coref_df)"
   ],
   "metadata": {
    "collapsed": false,
    "pycharm": {
     "name": "#%%\n"
    }
   }
  },
  {
   "cell_type": "code",
   "execution_count": 7,
   "outputs": [],
   "source": [
    "def get_coref_clusters(path, document_id):\n",
    "    temp_df = pd.DataFrame(columns=['Doc_ID', 'Text_ID', 'Text', 'Coref_Clusters'])\n",
    "\n",
    "    with open(path, 'r') as file:\n",
    "        lines = file.readlines()\n",
    "\n",
    "        text_id = 0\n",
    "        text = []\n",
    "        coref_clusters = {}\n",
    "        temp_clusters = {}\n",
    "\n",
    "        for line in lines:\n",
    "            if line == '\\n':\n",
    "                temp_df = temp_df.append({'Doc_ID': document_id,\n",
    "                                          'Text_ID': document_id + '-' + text_id,\n",
    "                                          'Text': text,\n",
    "                                          'Coref_Clusters': list(coref_clusters.values())},\n",
    "                                         ignore_index=True)\n",
    "                text = []\n",
    "                coref_clusters = {}\n",
    "                temp_clusters = {}\n",
    "            elif not line.startswith('#'):\n",
    "                columns = line.split()\n",
    "                text_id = columns[1]\n",
    "                text.append(columns[3])\n",
    "                coref_column = columns[12]\n",
    "                index = int(columns[2])\n",
    "                if not coref_column == '-':\n",
    "                    corefs = coref_column.split('|')\n",
    "                    for coref in corefs:\n",
    "                        key = coref.strip('()')\n",
    "                        if re.match(r'\\([0-9]+\\)', coref):\n",
    "                            coref_clusters.setdefault(key, []).append([index])\n",
    "                        if re.match(r'^\\([0-9]+$', coref):\n",
    "                            temp_clusters.setdefault(key, []).append(index)\n",
    "                        if re.match(r'^[0-9]+\\)$', coref):\n",
    "                            temp_clusters.setdefault(key, []).append(index)\n",
    "                            cluster_span = temp_clusters.pop(key)\n",
    "                            # borde ändra till [temp_clusters.pop(key), temp_clusters.pop(key)]\n",
    "                            coref_clusters.setdefault(key, []).append(cluster_span)\n",
    "    return temp_df"
   ],
   "metadata": {
    "collapsed": false,
    "pycharm": {
     "name": "#%%\n"
    }
   }
  },
  {
   "cell_type": "code",
   "execution_count": 8,
   "outputs": [],
   "source": [
    "for path in glob.iglob('data/datasets/suc-core-mod/' + 'aa*.conll'):\n",
    "    filename = path.split('/')[-1]\n",
    "    document_id = filename.split('-')[0]\n",
    "    df = get_coref_clusters(path, document_id)\n",
    "    coref_df = coref_df.append(df)"
   ],
   "metadata": {
    "collapsed": false,
    "pycharm": {
     "name": "#%%\n"
    }
   }
  },
  {
   "cell_type": "code",
   "execution_count": 12,
   "outputs": [
    {
     "data": {
      "text/plain": "    Doc_ID   Text_ID                                               Text  \\\n0     aa09  aa09-001               [Alla, vet, ju, ändå, hur, det, går]   \n1     aa09  aa09-002  [Svagt, intresse, för, det, tjeckoslovakiska, ...   \n2     aa09  aa09-003                        [PRAG, (, TT:s, utsända, )]   \n3     aa09  aa09-004  [Fem, dagar, före, de, första, fria, valen, i,...   \n4     aa09  aa09-005  [Husväggarna, runt, Vaclav-platsen, är, visser...   \n..     ...       ...                                                ...   \n132   aa05  aa05-039  [-, Det, kan, bana, vägen, för, en, helt, ny, ...   \n133   aa05  aa05-040      [Alla, är, dock, inte, lika, optimistiska, .]   \n134   aa05  aa05-041                [-, Vad, skall, de, betala, med, ?]   \n135   aa05  aa05-042  [De, har, ju, ingen, hårdvaluta, ,, säger, tex...   \n136   aa05  aa05-043                            [LARS-GEORG, BERGKVIST]   \n\n                   Coref_Clusters  \n0                              []  \n1                      [[[4, 6]]]  \n2                         [[[1]]]  \n3      [[[9]], [[4, 12]], [[17]]]  \n4             [[[3]], [[11, 15]]]  \n..                            ...  \n132                            []  \n133                            []  \n134                       [[[4]]]  \n135  [[[1]], [[9, 10], [12, 17]]]  \n136                            []  \n\n[274 rows x 4 columns]",
      "text/html": "<div>\n<style scoped>\n    .dataframe tbody tr th:only-of-type {\n        vertical-align: middle;\n    }\n\n    .dataframe tbody tr th {\n        vertical-align: top;\n    }\n\n    .dataframe thead th {\n        text-align: right;\n    }\n</style>\n<table border=\"1\" class=\"dataframe\">\n  <thead>\n    <tr style=\"text-align: right;\">\n      <th></th>\n      <th>Doc_ID</th>\n      <th>Text_ID</th>\n      <th>Text</th>\n      <th>Coref_Clusters</th>\n    </tr>\n  </thead>\n  <tbody>\n    <tr>\n      <th>0</th>\n      <td>aa09</td>\n      <td>aa09-001</td>\n      <td>[Alla, vet, ju, ändå, hur, det, går]</td>\n      <td>[]</td>\n    </tr>\n    <tr>\n      <th>1</th>\n      <td>aa09</td>\n      <td>aa09-002</td>\n      <td>[Svagt, intresse, för, det, tjeckoslovakiska, ...</td>\n      <td>[[[4, 6]]]</td>\n    </tr>\n    <tr>\n      <th>2</th>\n      <td>aa09</td>\n      <td>aa09-003</td>\n      <td>[PRAG, (, TT:s, utsända, )]</td>\n      <td>[[[1]]]</td>\n    </tr>\n    <tr>\n      <th>3</th>\n      <td>aa09</td>\n      <td>aa09-004</td>\n      <td>[Fem, dagar, före, de, första, fria, valen, i,...</td>\n      <td>[[[9]], [[4, 12]], [[17]]]</td>\n    </tr>\n    <tr>\n      <th>4</th>\n      <td>aa09</td>\n      <td>aa09-005</td>\n      <td>[Husväggarna, runt, Vaclav-platsen, är, visser...</td>\n      <td>[[[3]], [[11, 15]]]</td>\n    </tr>\n    <tr>\n      <th>...</th>\n      <td>...</td>\n      <td>...</td>\n      <td>...</td>\n      <td>...</td>\n    </tr>\n    <tr>\n      <th>132</th>\n      <td>aa05</td>\n      <td>aa05-039</td>\n      <td>[-, Det, kan, bana, vägen, för, en, helt, ny, ...</td>\n      <td>[]</td>\n    </tr>\n    <tr>\n      <th>133</th>\n      <td>aa05</td>\n      <td>aa05-040</td>\n      <td>[Alla, är, dock, inte, lika, optimistiska, .]</td>\n      <td>[]</td>\n    </tr>\n    <tr>\n      <th>134</th>\n      <td>aa05</td>\n      <td>aa05-041</td>\n      <td>[-, Vad, skall, de, betala, med, ?]</td>\n      <td>[[[4]]]</td>\n    </tr>\n    <tr>\n      <th>135</th>\n      <td>aa05</td>\n      <td>aa05-042</td>\n      <td>[De, har, ju, ingen, hårdvaluta, ,, säger, tex...</td>\n      <td>[[[1]], [[9, 10], [12, 17]]]</td>\n    </tr>\n    <tr>\n      <th>136</th>\n      <td>aa05</td>\n      <td>aa05-043</td>\n      <td>[LARS-GEORG, BERGKVIST]</td>\n      <td>[]</td>\n    </tr>\n  </tbody>\n</table>\n<p>274 rows × 4 columns</p>\n</div>"
     },
     "metadata": {},
     "output_type": "display_data"
    }
   ],
   "source": [
    "display(coref_df)\n",
    "coref_df.to_pickle('data/coref_small.pkl')"
   ],
   "metadata": {
    "collapsed": false,
    "pycharm": {
     "name": "#%%\n"
    }
   }
  }
 ],
 "metadata": {
  "kernelspec": {
   "display_name": "Python 3",
   "language": "python",
   "name": "python3"
  },
  "language_info": {
   "codemirror_mode": {
    "name": "ipython",
    "version": 2
   },
   "file_extension": ".py",
   "mimetype": "text/x-python",
   "name": "python",
   "nbconvert_exporter": "python",
   "pygments_lexer": "ipython2",
   "version": "2.7.6"
  }
 },
 "nbformat": 4,
 "nbformat_minor": 0
}