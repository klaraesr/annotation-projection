{
 "cells": [
  {
   "cell_type": "code",
   "execution_count": 35,
   "outputs": [],
   "source": [
    "import glob\n",
    "import re\n",
    "import pandas as pd\n",
    "from IPython.core.display import display\n",
    "from pathlib import Path\n",
    "\n",
    "data_path = '../conll-formatted-ontonotes-5.0/conll-formatted-ontonotes-5.0/data/conll-2012-test/data/english/annotations/bc/cctv'"
   ],
   "metadata": {
    "collapsed": false,
    "pycharm": {
     "name": "#%%\n"
    }
   }
  },
  {
   "cell_type": "code",
   "execution_count": 99,
   "outputs": [
    {
     "name": "stdout",
     "output_type": "stream",
     "text": [
      "Empty DataFrame\n",
      "Columns: [Doc_ID, Text_ID, Text, Sentence_lengths, Coref_Clusters]\n",
      "Index: []\n"
     ]
    }
   ],
   "source": [
    "coref_df = pd.DataFrame(columns=['Doc_ID', 'Text_ID', 'Text', 'Sentence_lengths', 'Coref_Clusters'])\n",
    "print(coref_df)"
   ],
   "metadata": {
    "collapsed": false,
    "pycharm": {
     "name": "#%%\n"
    }
   }
  },
  {
   "cell_type": "code",
   "execution_count": 97,
   "outputs": [],
   "source": [
    "def get_coref_clusters(path, document_id):\n",
    "    temp_df = pd.DataFrame(columns=['Doc_ID', 'Text_ID', 'Text', 'Sentence_lengths', 'Coref_Clusters'])\n",
    "\n",
    "    with open(path, 'r') as file:\n",
    "        lines = file.readlines()\n",
    "\n",
    "        sentence = []\n",
    "        text = []\n",
    "        sentence_lengths = []\n",
    "        coref_clusters = {}\n",
    "        temp_clusters = {}\n",
    "        columns = []\n",
    "\n",
    "        for line in lines:\n",
    "            # if we enter a new document\n",
    "            if line.startswith('#'):\n",
    "                if text:\n",
    "                    document_id = columns[0]\n",
    "                    text_id = columns[1]\n",
    "                    temp_df = temp_df.append({'Doc_ID': document_id,\n",
    "                                              'Text_ID': document_id + '-' + str(text_id),\n",
    "                                              'Text': text,\n",
    "                                              'Sentence_lengths': sentence_lengths,\n",
    "                                              'Coref_Clusters': list(coref_clusters.values())},\n",
    "                                             ignore_index=True)\n",
    "                    text = []\n",
    "                    sentence_lengths = []\n",
    "                    coref_clusters = {}\n",
    "                    temp_clusters = {}\n",
    "            elif line == '\\n':\n",
    "                text.append(sentence)\n",
    "                sentence_lengths.append(int(columns[2]) + 1) #zero indexed in dataset\n",
    "                sentence = []\n",
    "            else:\n",
    "                columns = line.split()\n",
    "                index = int(columns[2]) + sum(sentence_lengths)\n",
    "                sentence.append(columns[3])\n",
    "                coref_column = columns[-1]\n",
    "                if not coref_column == '-':\n",
    "                    corefs = coref_column.split('|')\n",
    "                    for coref in corefs:\n",
    "                        key = coref.strip('()')\n",
    "                        if re.match(r'\\([0-9]+\\)', coref):\n",
    "                            coref_clusters.setdefault(key, []).append([index, index])\n",
    "                        if re.match(r'^\\([0-9]+$', coref):\n",
    "                            temp_clusters.setdefault(key, []).append(index)\n",
    "                        if re.match(r'^[0-9]+\\)$', coref):\n",
    "                            temp_clusters.setdefault(key, []).append(index)\n",
    "                            cluster_span = temp_clusters.pop(key)\n",
    "                            coref_clusters.setdefault(key, []).append(cluster_span)\n",
    "    display(temp_df)\n",
    "    return temp_df"
   ],
   "metadata": {
    "collapsed": false,
    "pycharm": {
     "name": "#%%\n"
    }
   }
  },
  {
   "cell_type": "code",
   "execution_count": 100,
   "outputs": [
    {
     "name": "stdout",
     "output_type": "stream",
     "text": [
      "../conll-formatted-ontonotes-5.0/conll-formatted-ontonotes-5.0/data/conll-2012-test/data/english/annotations/bc/cctv/00/cctv_0005.gold_conll\n",
      "[14, 22, 29, 11, 5, 6, 12, 5]\n",
      "[5, 5, 22, 37, 11, 13, 18, 15, 35, 19, 26, 2, 13, 2, 13, 26, 23, 2, 2, 18, 24, 10, 8, 6, 7, 8, 2, 29, 20, 6, 2, 20, 39, 2, 15, 36, 4, 4]\n",
      "[12, 11, 70, 15, 18, 38, 22, 22, 2, 17, 2, 11, 4, 6, 30, 2, 17, 2, 29, 35, 2, 29, 17]\n",
      "[11, 21, 2, 26, 39, 6, 2, 32, 36, 2, 14, 27, 2, 2, 11, 44, 2, 13, 9, 29, 5, 19, 22, 41, 13, 9, 2, 2, 8]\n",
      "[8, 11, 4, 8, 13, 8, 4, 6, 4, 4, 17, 3, 6, 8, 12, 14, 8, 11, 13, 8, 21, 44, 13, 42, 34, 21, 13, 2, 18, 15, 20]\n",
      "[32, 4, 9, 17, 27, 19, 14, 52, 2, 15, 37, 41, 21, 34, 64, 2, 12, 12, 2, 7, 6, 10, 9, 29, 7, 2, 15, 12, 23, 19, 39, 2, 11, 16]\n",
      "[32, 12, 22, 8, 2, 66, 16, 2, 22, 42, 17, 2, 41, 2, 24, 21, 13, 2, 7, 2, 9, 2]\n",
      "[2, 15, 23, 8, 14, 27, 28, 21, 21, 49, 11, 13, 10, 15, 14, 57, 35, 35]\n",
      "[50, 2, 4, 16, 22, 47, 32, 14, 9, 30, 43, 33, 13, 14, 2, 17]\n",
      "[2, 21, 2, 7, 13, 50, 36, 4, 24, 24, 16, 43, 23, 16]\n",
      "[17, 40, 2, 13, 14, 22, 13, 3, 36, 19, 42, 39, 41]\n",
      "[30, 2, 4, 18, 54, 9, 3, 14, 28, 2, 13, 25, 32, 49, 19, 2, 10, 12, 2, 41, 26, 8, 21, 17, 30, 16, 25, 30, 11, 2, 2]\n",
      "[43, 2, 14, 19, 12, 13, 33, 14, 5, 31, 2, 2, 67, 2, 18]\n",
      "[21, 2, 13, 21, 23, 33, 8, 24, 13, 14, 10, 13, 10, 9, 41, 48, 28, 2, 13]\n",
      "[35, 12, 16, 21, 5, 11, 2, 45, 2, 17, 2, 28, 2, 46, 25, 15, 33, 11, 20, 59]\n",
      "[34, 23, 10, 44, 19, 22, 10, 10, 2, 20, 36, 36, 24, 52, 8, 13, 31, 15, 31, 18, 2, 26, 25]\n",
      "[2, 30, 19, 24, 16, 14, 15, 27, 2, 16, 12, 6, 25, 13, 15, 9, 11, 23, 13, 2, 10, 8, 12, 23, 2, 13, 5, 29, 25, 11, 11, 10, 10, 10, 32, 30, 24, 7, 16, 5, 8]\n",
      "[2, 9, 15, 29, 27, 24, 28, 21, 26, 15, 21, 21, 11, 17, 14, 18, 18, 15, 11, 10, 12, 14, 15, 16, 9, 10, 18, 9, 13, 14, 9, 13, 11, 10, 9]\n"
     ]
    },
    {
     "data": {
      "text/plain": "                  Doc_ID                  Text_ID  \\\n0   bc/cctv/00/cctv_0005   bc/cctv/00/cctv_0005-0   \n1   bc/cctv/00/cctv_0005   bc/cctv/00/cctv_0005-1   \n2   bc/cctv/00/cctv_0005   bc/cctv/00/cctv_0005-2   \n3   bc/cctv/00/cctv_0005   bc/cctv/00/cctv_0005-3   \n4   bc/cctv/00/cctv_0005   bc/cctv/00/cctv_0005-4   \n5   bc/cctv/00/cctv_0005   bc/cctv/00/cctv_0005-5   \n6   bc/cctv/00/cctv_0005   bc/cctv/00/cctv_0005-6   \n7   bc/cctv/00/cctv_0005   bc/cctv/00/cctv_0005-7   \n8   bc/cctv/00/cctv_0005   bc/cctv/00/cctv_0005-8   \n9   bc/cctv/00/cctv_0005   bc/cctv/00/cctv_0005-9   \n10  bc/cctv/00/cctv_0005  bc/cctv/00/cctv_0005-10   \n11  bc/cctv/00/cctv_0005  bc/cctv/00/cctv_0005-11   \n12  bc/cctv/00/cctv_0005  bc/cctv/00/cctv_0005-12   \n13  bc/cctv/00/cctv_0005  bc/cctv/00/cctv_0005-13   \n14  bc/cctv/00/cctv_0005  bc/cctv/00/cctv_0005-14   \n15  bc/cctv/00/cctv_0005  bc/cctv/00/cctv_0005-15   \n16  bc/cctv/00/cctv_0005  bc/cctv/00/cctv_0005-16   \n17  bc/cctv/00/cctv_0005  bc/cctv/00/cctv_0005-17   \n\n                                                 Text  \\\n0   [[--, basically, ,, it, was, unanimously, agre...   \n1   [[Hello, ,, dear, viewers, .], [Welcome, to, F...   \n2   [[Well, ,, what, in, fact, was, the, content, ...   \n3   [[We, usually, make, it, sound, like, e-govern...   \n4   [[So, ,, how, exactly, did, citizens, react, ?...   \n5   [[Well, ,, ah, ,, Yang, Yang, ,, you, work, at...   \n6   [[Yes, ,, many, ,, viewers, not, in, Beijing, ...   \n7   [[Uh-huh, .], [Well, ,, what, measures, did, t...   \n8   [[Ah, ,, it, can, be, said, ,, ah, ,, Yang, Ya...   \n9   [[Uh-huh, .], [Well, ,, Professor, Zhou, ,, fr...   \n10  [[Traffic, was, the, first, thing, to, be, imp...   \n11  [[Well, ,, ah, ,, Professor, Zhou, ,, as, this...   \n12  [[Professor, Zhou, ,, actually, for, such, a, ...   \n13  [[Um, ,, well, ,, I, think, ,, Yang, Yang, ,, ...   \n14  [[Ah, ,, apart, from, this, ,, Professor, Zhou...   \n15  [[Um, ,, well, ,, based, on, your, understandi...   \n16  [[Yes, .], [Well, ,, finally, ,, let, 's, turn...   \n17  [[Hello, .], [Let, 's, turn, our, attention, t...   \n\n                                     Sentence_lengths  \\\n0                       [14, 22, 29, 11, 5, 6, 12, 5]   \n1   [5, 5, 22, 37, 11, 13, 18, 15, 35, 19, 26, 2, ...   \n2   [12, 11, 70, 15, 18, 38, 22, 22, 2, 17, 2, 11,...   \n3   [11, 21, 2, 26, 39, 6, 2, 32, 36, 2, 14, 27, 2...   \n4   [8, 11, 4, 8, 13, 8, 4, 6, 4, 4, 17, 3, 6, 8, ...   \n5   [32, 4, 9, 17, 27, 19, 14, 52, 2, 15, 37, 41, ...   \n6   [32, 12, 22, 8, 2, 66, 16, 2, 22, 42, 17, 2, 4...   \n7   [2, 15, 23, 8, 14, 27, 28, 21, 21, 49, 11, 13,...   \n8   [50, 2, 4, 16, 22, 47, 32, 14, 9, 30, 43, 33, ...   \n9   [2, 21, 2, 7, 13, 50, 36, 4, 24, 24, 16, 43, 2...   \n10  [17, 40, 2, 13, 14, 22, 13, 3, 36, 19, 42, 39,...   \n11  [30, 2, 4, 18, 54, 9, 3, 14, 28, 2, 13, 25, 32...   \n12  [43, 2, 14, 19, 12, 13, 33, 14, 5, 31, 2, 2, 6...   \n13  [21, 2, 13, 21, 23, 33, 8, 24, 13, 14, 10, 13,...   \n14  [35, 12, 16, 21, 5, 11, 2, 45, 2, 17, 2, 28, 2...   \n15  [34, 23, 10, 44, 19, 22, 10, 10, 2, 20, 36, 36...   \n16  [2, 30, 19, 24, 16, 14, 15, 27, 2, 16, 12, 6, ...   \n17  [2, 9, 15, 29, 27, 24, 28, 21, 26, 15, 21, 21,...   \n\n                                       Coref_Clusters  \n0   [[[16, 16], [19, 23]], [[25, 27], [42, 44], [5...  \n1   [[[7, 8], [233, 234]], [[10, 10], [172, 172]],...  \n2   [[[9, 10], [25, 26], [103, 104], [116, 117], [...  \n3   [[[17, 17], [22, 22]], [[29, 30], [42, 43]], [...  \n4   [[[23, 23], [33, 33], [45, 45], [74, 74]], [[2...  \n5   [[[4, 5], [7, 7], [83, 83], [94, 94], [333, 33...  \n6   [[[7, 7], [171, 172]], [[28, 29], [258, 261], ...  \n7   [[[7, 10], [30, 38], [50, 53], [72, 72], [149,...  \n8   [[[9, 10], [58, 58], [66, 66], [226, 226], [27...  \n9   [[[4, 5], [242, 242]], [[41, 43], [209, 209], ...  \n10  [[[9, 14], [19, 20], [149, 150], [269, 273]], ...  \n11  [[[4, 5], [20, 20], [56, 56], [285, 285], [314...  \n12  [[[0, 1], [45, 45], [192, 192], [239, 239]], [...  \n13  [[[7, 8], [11, 11], [24, 24], [130, 130], [261...  \n14  [[[6, 7], [11, 11], [37, 37], [49, 49], [200, ...  \n15  [[[6, 6], [34, 34], [85, 85], [382, 382], [488...  \n16  [[[30, 30], [502, 503]], [[24, 30], [66, 67], ...  \n17  [[[63, 64], [193, 194]], [[66, 67], [109, 110]...  ",
      "text/html": "<div>\n<style scoped>\n    .dataframe tbody tr th:only-of-type {\n        vertical-align: middle;\n    }\n\n    .dataframe tbody tr th {\n        vertical-align: top;\n    }\n\n    .dataframe thead th {\n        text-align: right;\n    }\n</style>\n<table border=\"1\" class=\"dataframe\">\n  <thead>\n    <tr style=\"text-align: right;\">\n      <th></th>\n      <th>Doc_ID</th>\n      <th>Text_ID</th>\n      <th>Text</th>\n      <th>Sentence_lengths</th>\n      <th>Coref_Clusters</th>\n    </tr>\n  </thead>\n  <tbody>\n    <tr>\n      <th>0</th>\n      <td>bc/cctv/00/cctv_0005</td>\n      <td>bc/cctv/00/cctv_0005-0</td>\n      <td>[[--, basically, ,, it, was, unanimously, agre...</td>\n      <td>[14, 22, 29, 11, 5, 6, 12, 5]</td>\n      <td>[[[16, 16], [19, 23]], [[25, 27], [42, 44], [5...</td>\n    </tr>\n    <tr>\n      <th>1</th>\n      <td>bc/cctv/00/cctv_0005</td>\n      <td>bc/cctv/00/cctv_0005-1</td>\n      <td>[[Hello, ,, dear, viewers, .], [Welcome, to, F...</td>\n      <td>[5, 5, 22, 37, 11, 13, 18, 15, 35, 19, 26, 2, ...</td>\n      <td>[[[7, 8], [233, 234]], [[10, 10], [172, 172]],...</td>\n    </tr>\n    <tr>\n      <th>2</th>\n      <td>bc/cctv/00/cctv_0005</td>\n      <td>bc/cctv/00/cctv_0005-2</td>\n      <td>[[Well, ,, what, in, fact, was, the, content, ...</td>\n      <td>[12, 11, 70, 15, 18, 38, 22, 22, 2, 17, 2, 11,...</td>\n      <td>[[[9, 10], [25, 26], [103, 104], [116, 117], [...</td>\n    </tr>\n    <tr>\n      <th>3</th>\n      <td>bc/cctv/00/cctv_0005</td>\n      <td>bc/cctv/00/cctv_0005-3</td>\n      <td>[[We, usually, make, it, sound, like, e-govern...</td>\n      <td>[11, 21, 2, 26, 39, 6, 2, 32, 36, 2, 14, 27, 2...</td>\n      <td>[[[17, 17], [22, 22]], [[29, 30], [42, 43]], [...</td>\n    </tr>\n    <tr>\n      <th>4</th>\n      <td>bc/cctv/00/cctv_0005</td>\n      <td>bc/cctv/00/cctv_0005-4</td>\n      <td>[[So, ,, how, exactly, did, citizens, react, ?...</td>\n      <td>[8, 11, 4, 8, 13, 8, 4, 6, 4, 4, 17, 3, 6, 8, ...</td>\n      <td>[[[23, 23], [33, 33], [45, 45], [74, 74]], [[2...</td>\n    </tr>\n    <tr>\n      <th>5</th>\n      <td>bc/cctv/00/cctv_0005</td>\n      <td>bc/cctv/00/cctv_0005-5</td>\n      <td>[[Well, ,, ah, ,, Yang, Yang, ,, you, work, at...</td>\n      <td>[32, 4, 9, 17, 27, 19, 14, 52, 2, 15, 37, 41, ...</td>\n      <td>[[[4, 5], [7, 7], [83, 83], [94, 94], [333, 33...</td>\n    </tr>\n    <tr>\n      <th>6</th>\n      <td>bc/cctv/00/cctv_0005</td>\n      <td>bc/cctv/00/cctv_0005-6</td>\n      <td>[[Yes, ,, many, ,, viewers, not, in, Beijing, ...</td>\n      <td>[32, 12, 22, 8, 2, 66, 16, 2, 22, 42, 17, 2, 4...</td>\n      <td>[[[7, 7], [171, 172]], [[28, 29], [258, 261], ...</td>\n    </tr>\n    <tr>\n      <th>7</th>\n      <td>bc/cctv/00/cctv_0005</td>\n      <td>bc/cctv/00/cctv_0005-7</td>\n      <td>[[Uh-huh, .], [Well, ,, what, measures, did, t...</td>\n      <td>[2, 15, 23, 8, 14, 27, 28, 21, 21, 49, 11, 13,...</td>\n      <td>[[[7, 10], [30, 38], [50, 53], [72, 72], [149,...</td>\n    </tr>\n    <tr>\n      <th>8</th>\n      <td>bc/cctv/00/cctv_0005</td>\n      <td>bc/cctv/00/cctv_0005-8</td>\n      <td>[[Ah, ,, it, can, be, said, ,, ah, ,, Yang, Ya...</td>\n      <td>[50, 2, 4, 16, 22, 47, 32, 14, 9, 30, 43, 33, ...</td>\n      <td>[[[9, 10], [58, 58], [66, 66], [226, 226], [27...</td>\n    </tr>\n    <tr>\n      <th>9</th>\n      <td>bc/cctv/00/cctv_0005</td>\n      <td>bc/cctv/00/cctv_0005-9</td>\n      <td>[[Uh-huh, .], [Well, ,, Professor, Zhou, ,, fr...</td>\n      <td>[2, 21, 2, 7, 13, 50, 36, 4, 24, 24, 16, 43, 2...</td>\n      <td>[[[4, 5], [242, 242]], [[41, 43], [209, 209], ...</td>\n    </tr>\n    <tr>\n      <th>10</th>\n      <td>bc/cctv/00/cctv_0005</td>\n      <td>bc/cctv/00/cctv_0005-10</td>\n      <td>[[Traffic, was, the, first, thing, to, be, imp...</td>\n      <td>[17, 40, 2, 13, 14, 22, 13, 3, 36, 19, 42, 39,...</td>\n      <td>[[[9, 14], [19, 20], [149, 150], [269, 273]], ...</td>\n    </tr>\n    <tr>\n      <th>11</th>\n      <td>bc/cctv/00/cctv_0005</td>\n      <td>bc/cctv/00/cctv_0005-11</td>\n      <td>[[Well, ,, ah, ,, Professor, Zhou, ,, as, this...</td>\n      <td>[30, 2, 4, 18, 54, 9, 3, 14, 28, 2, 13, 25, 32...</td>\n      <td>[[[4, 5], [20, 20], [56, 56], [285, 285], [314...</td>\n    </tr>\n    <tr>\n      <th>12</th>\n      <td>bc/cctv/00/cctv_0005</td>\n      <td>bc/cctv/00/cctv_0005-12</td>\n      <td>[[Professor, Zhou, ,, actually, for, such, a, ...</td>\n      <td>[43, 2, 14, 19, 12, 13, 33, 14, 5, 31, 2, 2, 6...</td>\n      <td>[[[0, 1], [45, 45], [192, 192], [239, 239]], [...</td>\n    </tr>\n    <tr>\n      <th>13</th>\n      <td>bc/cctv/00/cctv_0005</td>\n      <td>bc/cctv/00/cctv_0005-13</td>\n      <td>[[Um, ,, well, ,, I, think, ,, Yang, Yang, ,, ...</td>\n      <td>[21, 2, 13, 21, 23, 33, 8, 24, 13, 14, 10, 13,...</td>\n      <td>[[[7, 8], [11, 11], [24, 24], [130, 130], [261...</td>\n    </tr>\n    <tr>\n      <th>14</th>\n      <td>bc/cctv/00/cctv_0005</td>\n      <td>bc/cctv/00/cctv_0005-14</td>\n      <td>[[Ah, ,, apart, from, this, ,, Professor, Zhou...</td>\n      <td>[35, 12, 16, 21, 5, 11, 2, 45, 2, 17, 2, 28, 2...</td>\n      <td>[[[6, 7], [11, 11], [37, 37], [49, 49], [200, ...</td>\n    </tr>\n    <tr>\n      <th>15</th>\n      <td>bc/cctv/00/cctv_0005</td>\n      <td>bc/cctv/00/cctv_0005-15</td>\n      <td>[[Um, ,, well, ,, based, on, your, understandi...</td>\n      <td>[34, 23, 10, 44, 19, 22, 10, 10, 2, 20, 36, 36...</td>\n      <td>[[[6, 6], [34, 34], [85, 85], [382, 382], [488...</td>\n    </tr>\n    <tr>\n      <th>16</th>\n      <td>bc/cctv/00/cctv_0005</td>\n      <td>bc/cctv/00/cctv_0005-16</td>\n      <td>[[Yes, .], [Well, ,, finally, ,, let, 's, turn...</td>\n      <td>[2, 30, 19, 24, 16, 14, 15, 27, 2, 16, 12, 6, ...</td>\n      <td>[[[30, 30], [502, 503]], [[24, 30], [66, 67], ...</td>\n    </tr>\n    <tr>\n      <th>17</th>\n      <td>bc/cctv/00/cctv_0005</td>\n      <td>bc/cctv/00/cctv_0005-17</td>\n      <td>[[Hello, .], [Let, 's, turn, our, attention, t...</td>\n      <td>[2, 9, 15, 29, 27, 24, 28, 21, 26, 15, 21, 21,...</td>\n      <td>[[[63, 64], [193, 194]], [[66, 67], [109, 110]...</td>\n    </tr>\n  </tbody>\n</table>\n</div>"
     },
     "metadata": {},
     "output_type": "display_data"
    }
   ],
   "source": [
    "\n",
    "for path in Path(data_path).rglob('*.gold_conll'):\n",
    "    print(path)\n",
    "    filename = str(path).split('/')[-1]\n",
    "    #document_id = filename.split('.')[0]\n",
    "    df = get_coref_clusters(path, filename)\n",
    "    coref_df = coref_df.append(df)"
   ],
   "metadata": {
    "collapsed": false,
    "pycharm": {
     "name": "#%%\n"
    }
   }
  },
  {
   "cell_type": "code",
   "execution_count": 101,
   "outputs": [
    {
     "data": {
      "text/plain": "                  Doc_ID                  Text_ID  \\\n0   bc/cctv/00/cctv_0005   bc/cctv/00/cctv_0005-0   \n1   bc/cctv/00/cctv_0005   bc/cctv/00/cctv_0005-1   \n2   bc/cctv/00/cctv_0005   bc/cctv/00/cctv_0005-2   \n3   bc/cctv/00/cctv_0005   bc/cctv/00/cctv_0005-3   \n4   bc/cctv/00/cctv_0005   bc/cctv/00/cctv_0005-4   \n5   bc/cctv/00/cctv_0005   bc/cctv/00/cctv_0005-5   \n6   bc/cctv/00/cctv_0005   bc/cctv/00/cctv_0005-6   \n7   bc/cctv/00/cctv_0005   bc/cctv/00/cctv_0005-7   \n8   bc/cctv/00/cctv_0005   bc/cctv/00/cctv_0005-8   \n9   bc/cctv/00/cctv_0005   bc/cctv/00/cctv_0005-9   \n10  bc/cctv/00/cctv_0005  bc/cctv/00/cctv_0005-10   \n11  bc/cctv/00/cctv_0005  bc/cctv/00/cctv_0005-11   \n12  bc/cctv/00/cctv_0005  bc/cctv/00/cctv_0005-12   \n13  bc/cctv/00/cctv_0005  bc/cctv/00/cctv_0005-13   \n14  bc/cctv/00/cctv_0005  bc/cctv/00/cctv_0005-14   \n15  bc/cctv/00/cctv_0005  bc/cctv/00/cctv_0005-15   \n16  bc/cctv/00/cctv_0005  bc/cctv/00/cctv_0005-16   \n17  bc/cctv/00/cctv_0005  bc/cctv/00/cctv_0005-17   \n\n                                                 Text  \\\n0   [[--, basically, ,, it, was, unanimously, agre...   \n1   [[Hello, ,, dear, viewers, .], [Welcome, to, F...   \n2   [[Well, ,, what, in, fact, was, the, content, ...   \n3   [[We, usually, make, it, sound, like, e-govern...   \n4   [[So, ,, how, exactly, did, citizens, react, ?...   \n5   [[Well, ,, ah, ,, Yang, Yang, ,, you, work, at...   \n6   [[Yes, ,, many, ,, viewers, not, in, Beijing, ...   \n7   [[Uh-huh, .], [Well, ,, what, measures, did, t...   \n8   [[Ah, ,, it, can, be, said, ,, ah, ,, Yang, Ya...   \n9   [[Uh-huh, .], [Well, ,, Professor, Zhou, ,, fr...   \n10  [[Traffic, was, the, first, thing, to, be, imp...   \n11  [[Well, ,, ah, ,, Professor, Zhou, ,, as, this...   \n12  [[Professor, Zhou, ,, actually, for, such, a, ...   \n13  [[Um, ,, well, ,, I, think, ,, Yang, Yang, ,, ...   \n14  [[Ah, ,, apart, from, this, ,, Professor, Zhou...   \n15  [[Um, ,, well, ,, based, on, your, understandi...   \n16  [[Yes, .], [Well, ,, finally, ,, let, 's, turn...   \n17  [[Hello, .], [Let, 's, turn, our, attention, t...   \n\n                                     Sentence_lengths  \\\n0                       [14, 22, 29, 11, 5, 6, 12, 5]   \n1   [5, 5, 22, 37, 11, 13, 18, 15, 35, 19, 26, 2, ...   \n2   [12, 11, 70, 15, 18, 38, 22, 22, 2, 17, 2, 11,...   \n3   [11, 21, 2, 26, 39, 6, 2, 32, 36, 2, 14, 27, 2...   \n4   [8, 11, 4, 8, 13, 8, 4, 6, 4, 4, 17, 3, 6, 8, ...   \n5   [32, 4, 9, 17, 27, 19, 14, 52, 2, 15, 37, 41, ...   \n6   [32, 12, 22, 8, 2, 66, 16, 2, 22, 42, 17, 2, 4...   \n7   [2, 15, 23, 8, 14, 27, 28, 21, 21, 49, 11, 13,...   \n8   [50, 2, 4, 16, 22, 47, 32, 14, 9, 30, 43, 33, ...   \n9   [2, 21, 2, 7, 13, 50, 36, 4, 24, 24, 16, 43, 2...   \n10  [17, 40, 2, 13, 14, 22, 13, 3, 36, 19, 42, 39,...   \n11  [30, 2, 4, 18, 54, 9, 3, 14, 28, 2, 13, 25, 32...   \n12  [43, 2, 14, 19, 12, 13, 33, 14, 5, 31, 2, 2, 6...   \n13  [21, 2, 13, 21, 23, 33, 8, 24, 13, 14, 10, 13,...   \n14  [35, 12, 16, 21, 5, 11, 2, 45, 2, 17, 2, 28, 2...   \n15  [34, 23, 10, 44, 19, 22, 10, 10, 2, 20, 36, 36...   \n16  [2, 30, 19, 24, 16, 14, 15, 27, 2, 16, 12, 6, ...   \n17  [2, 9, 15, 29, 27, 24, 28, 21, 26, 15, 21, 21,...   \n\n                                       Coref_Clusters  \n0   [[[16, 16], [19, 23]], [[25, 27], [42, 44], [5...  \n1   [[[7, 8], [233, 234]], [[10, 10], [172, 172]],...  \n2   [[[9, 10], [25, 26], [103, 104], [116, 117], [...  \n3   [[[17, 17], [22, 22]], [[29, 30], [42, 43]], [...  \n4   [[[23, 23], [33, 33], [45, 45], [74, 74]], [[2...  \n5   [[[4, 5], [7, 7], [83, 83], [94, 94], [333, 33...  \n6   [[[7, 7], [171, 172]], [[28, 29], [258, 261], ...  \n7   [[[7, 10], [30, 38], [50, 53], [72, 72], [149,...  \n8   [[[9, 10], [58, 58], [66, 66], [226, 226], [27...  \n9   [[[4, 5], [242, 242]], [[41, 43], [209, 209], ...  \n10  [[[9, 14], [19, 20], [149, 150], [269, 273]], ...  \n11  [[[4, 5], [20, 20], [56, 56], [285, 285], [314...  \n12  [[[0, 1], [45, 45], [192, 192], [239, 239]], [...  \n13  [[[7, 8], [11, 11], [24, 24], [130, 130], [261...  \n14  [[[6, 7], [11, 11], [37, 37], [49, 49], [200, ...  \n15  [[[6, 6], [34, 34], [85, 85], [382, 382], [488...  \n16  [[[30, 30], [502, 503]], [[24, 30], [66, 67], ...  \n17  [[[63, 64], [193, 194]], [[66, 67], [109, 110]...  ",
      "text/html": "<div>\n<style scoped>\n    .dataframe tbody tr th:only-of-type {\n        vertical-align: middle;\n    }\n\n    .dataframe tbody tr th {\n        vertical-align: top;\n    }\n\n    .dataframe thead th {\n        text-align: right;\n    }\n</style>\n<table border=\"1\" class=\"dataframe\">\n  <thead>\n    <tr style=\"text-align: right;\">\n      <th></th>\n      <th>Doc_ID</th>\n      <th>Text_ID</th>\n      <th>Text</th>\n      <th>Sentence_lengths</th>\n      <th>Coref_Clusters</th>\n    </tr>\n  </thead>\n  <tbody>\n    <tr>\n      <th>0</th>\n      <td>bc/cctv/00/cctv_0005</td>\n      <td>bc/cctv/00/cctv_0005-0</td>\n      <td>[[--, basically, ,, it, was, unanimously, agre...</td>\n      <td>[14, 22, 29, 11, 5, 6, 12, 5]</td>\n      <td>[[[16, 16], [19, 23]], [[25, 27], [42, 44], [5...</td>\n    </tr>\n    <tr>\n      <th>1</th>\n      <td>bc/cctv/00/cctv_0005</td>\n      <td>bc/cctv/00/cctv_0005-1</td>\n      <td>[[Hello, ,, dear, viewers, .], [Welcome, to, F...</td>\n      <td>[5, 5, 22, 37, 11, 13, 18, 15, 35, 19, 26, 2, ...</td>\n      <td>[[[7, 8], [233, 234]], [[10, 10], [172, 172]],...</td>\n    </tr>\n    <tr>\n      <th>2</th>\n      <td>bc/cctv/00/cctv_0005</td>\n      <td>bc/cctv/00/cctv_0005-2</td>\n      <td>[[Well, ,, what, in, fact, was, the, content, ...</td>\n      <td>[12, 11, 70, 15, 18, 38, 22, 22, 2, 17, 2, 11,...</td>\n      <td>[[[9, 10], [25, 26], [103, 104], [116, 117], [...</td>\n    </tr>\n    <tr>\n      <th>3</th>\n      <td>bc/cctv/00/cctv_0005</td>\n      <td>bc/cctv/00/cctv_0005-3</td>\n      <td>[[We, usually, make, it, sound, like, e-govern...</td>\n      <td>[11, 21, 2, 26, 39, 6, 2, 32, 36, 2, 14, 27, 2...</td>\n      <td>[[[17, 17], [22, 22]], [[29, 30], [42, 43]], [...</td>\n    </tr>\n    <tr>\n      <th>4</th>\n      <td>bc/cctv/00/cctv_0005</td>\n      <td>bc/cctv/00/cctv_0005-4</td>\n      <td>[[So, ,, how, exactly, did, citizens, react, ?...</td>\n      <td>[8, 11, 4, 8, 13, 8, 4, 6, 4, 4, 17, 3, 6, 8, ...</td>\n      <td>[[[23, 23], [33, 33], [45, 45], [74, 74]], [[2...</td>\n    </tr>\n    <tr>\n      <th>5</th>\n      <td>bc/cctv/00/cctv_0005</td>\n      <td>bc/cctv/00/cctv_0005-5</td>\n      <td>[[Well, ,, ah, ,, Yang, Yang, ,, you, work, at...</td>\n      <td>[32, 4, 9, 17, 27, 19, 14, 52, 2, 15, 37, 41, ...</td>\n      <td>[[[4, 5], [7, 7], [83, 83], [94, 94], [333, 33...</td>\n    </tr>\n    <tr>\n      <th>6</th>\n      <td>bc/cctv/00/cctv_0005</td>\n      <td>bc/cctv/00/cctv_0005-6</td>\n      <td>[[Yes, ,, many, ,, viewers, not, in, Beijing, ...</td>\n      <td>[32, 12, 22, 8, 2, 66, 16, 2, 22, 42, 17, 2, 4...</td>\n      <td>[[[7, 7], [171, 172]], [[28, 29], [258, 261], ...</td>\n    </tr>\n    <tr>\n      <th>7</th>\n      <td>bc/cctv/00/cctv_0005</td>\n      <td>bc/cctv/00/cctv_0005-7</td>\n      <td>[[Uh-huh, .], [Well, ,, what, measures, did, t...</td>\n      <td>[2, 15, 23, 8, 14, 27, 28, 21, 21, 49, 11, 13,...</td>\n      <td>[[[7, 10], [30, 38], [50, 53], [72, 72], [149,...</td>\n    </tr>\n    <tr>\n      <th>8</th>\n      <td>bc/cctv/00/cctv_0005</td>\n      <td>bc/cctv/00/cctv_0005-8</td>\n      <td>[[Ah, ,, it, can, be, said, ,, ah, ,, Yang, Ya...</td>\n      <td>[50, 2, 4, 16, 22, 47, 32, 14, 9, 30, 43, 33, ...</td>\n      <td>[[[9, 10], [58, 58], [66, 66], [226, 226], [27...</td>\n    </tr>\n    <tr>\n      <th>9</th>\n      <td>bc/cctv/00/cctv_0005</td>\n      <td>bc/cctv/00/cctv_0005-9</td>\n      <td>[[Uh-huh, .], [Well, ,, Professor, Zhou, ,, fr...</td>\n      <td>[2, 21, 2, 7, 13, 50, 36, 4, 24, 24, 16, 43, 2...</td>\n      <td>[[[4, 5], [242, 242]], [[41, 43], [209, 209], ...</td>\n    </tr>\n    <tr>\n      <th>10</th>\n      <td>bc/cctv/00/cctv_0005</td>\n      <td>bc/cctv/00/cctv_0005-10</td>\n      <td>[[Traffic, was, the, first, thing, to, be, imp...</td>\n      <td>[17, 40, 2, 13, 14, 22, 13, 3, 36, 19, 42, 39,...</td>\n      <td>[[[9, 14], [19, 20], [149, 150], [269, 273]], ...</td>\n    </tr>\n    <tr>\n      <th>11</th>\n      <td>bc/cctv/00/cctv_0005</td>\n      <td>bc/cctv/00/cctv_0005-11</td>\n      <td>[[Well, ,, ah, ,, Professor, Zhou, ,, as, this...</td>\n      <td>[30, 2, 4, 18, 54, 9, 3, 14, 28, 2, 13, 25, 32...</td>\n      <td>[[[4, 5], [20, 20], [56, 56], [285, 285], [314...</td>\n    </tr>\n    <tr>\n      <th>12</th>\n      <td>bc/cctv/00/cctv_0005</td>\n      <td>bc/cctv/00/cctv_0005-12</td>\n      <td>[[Professor, Zhou, ,, actually, for, such, a, ...</td>\n      <td>[43, 2, 14, 19, 12, 13, 33, 14, 5, 31, 2, 2, 6...</td>\n      <td>[[[0, 1], [45, 45], [192, 192], [239, 239]], [...</td>\n    </tr>\n    <tr>\n      <th>13</th>\n      <td>bc/cctv/00/cctv_0005</td>\n      <td>bc/cctv/00/cctv_0005-13</td>\n      <td>[[Um, ,, well, ,, I, think, ,, Yang, Yang, ,, ...</td>\n      <td>[21, 2, 13, 21, 23, 33, 8, 24, 13, 14, 10, 13,...</td>\n      <td>[[[7, 8], [11, 11], [24, 24], [130, 130], [261...</td>\n    </tr>\n    <tr>\n      <th>14</th>\n      <td>bc/cctv/00/cctv_0005</td>\n      <td>bc/cctv/00/cctv_0005-14</td>\n      <td>[[Ah, ,, apart, from, this, ,, Professor, Zhou...</td>\n      <td>[35, 12, 16, 21, 5, 11, 2, 45, 2, 17, 2, 28, 2...</td>\n      <td>[[[6, 7], [11, 11], [37, 37], [49, 49], [200, ...</td>\n    </tr>\n    <tr>\n      <th>15</th>\n      <td>bc/cctv/00/cctv_0005</td>\n      <td>bc/cctv/00/cctv_0005-15</td>\n      <td>[[Um, ,, well, ,, based, on, your, understandi...</td>\n      <td>[34, 23, 10, 44, 19, 22, 10, 10, 2, 20, 36, 36...</td>\n      <td>[[[6, 6], [34, 34], [85, 85], [382, 382], [488...</td>\n    </tr>\n    <tr>\n      <th>16</th>\n      <td>bc/cctv/00/cctv_0005</td>\n      <td>bc/cctv/00/cctv_0005-16</td>\n      <td>[[Yes, .], [Well, ,, finally, ,, let, 's, turn...</td>\n      <td>[2, 30, 19, 24, 16, 14, 15, 27, 2, 16, 12, 6, ...</td>\n      <td>[[[30, 30], [502, 503]], [[24, 30], [66, 67], ...</td>\n    </tr>\n    <tr>\n      <th>17</th>\n      <td>bc/cctv/00/cctv_0005</td>\n      <td>bc/cctv/00/cctv_0005-17</td>\n      <td>[[Hello, .], [Let, 's, turn, our, attention, t...</td>\n      <td>[2, 9, 15, 29, 27, 24, 28, 21, 26, 15, 21, 21,...</td>\n      <td>[[[63, 64], [193, 194]], [[66, 67], [109, 110]...</td>\n    </tr>\n  </tbody>\n</table>\n</div>"
     },
     "metadata": {},
     "output_type": "display_data"
    }
   ],
   "source": [
    "display(coref_df)\n",
    "coref_df.to_pickle('data/coref_ontonotes.pkl')"
   ],
   "metadata": {
    "collapsed": false,
    "pycharm": {
     "name": "#%%\n"
    }
   }
  },
  {
   "cell_type": "code",
   "execution_count": 5,
   "outputs": [
    {
     "name": "stdout",
     "output_type": "stream",
     "text": [
      "../conll-formatted-ontonotes-5.0/conll-formatted-ontonotes-5.0/data/conll-2012-test/data/english/annotations/bc/cctv/00/cctv_0005.gold_conll\n",
      "../conll-formatted-ontonotes-5.0/conll-formatted-ontonotes-5.0/data/conll-2012-test/data/english/annotations/bc/phoenix/00/phoenix_0003.gold_conll\n",
      "../conll-formatted-ontonotes-5.0/conll-formatted-ontonotes-5.0/data/conll-2012-test/data/english/annotations/bc/cnn/00/cnn_0008.gold_conll\n",
      "../conll-formatted-ontonotes-5.0/conll-formatted-ontonotes-5.0/data/conll-2012-test/data/english/annotations/bc/msnbc/00/msnbc_0007.gold_conll\n"
     ]
    }
   ],
   "source": [],
   "metadata": {
    "collapsed": false,
    "pycharm": {
     "name": "#%%\n"
    }
   }
  }
 ],
 "metadata": {
  "kernelspec": {
   "display_name": "Python 3",
   "language": "python",
   "name": "python3"
  },
  "language_info": {
   "codemirror_mode": {
    "name": "ipython",
    "version": 2
   },
   "file_extension": ".py",
   "mimetype": "text/x-python",
   "name": "python",
   "nbconvert_exporter": "python",
   "pygments_lexer": "ipython2",
   "version": "2.7.6"
  }
 },
 "nbformat": 4,
 "nbformat_minor": 0
}