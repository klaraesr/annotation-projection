{
 "cells": [
  {
   "cell_type": "code",
   "execution_count": 5,
   "metadata": {
    "collapsed": true
   },
   "outputs": [],
   "source": [
    "import glob\n",
    "import re\n",
    "import pandas as pd\n",
    "from IPython.core.display import display"
   ]
  },
  {
   "cell_type": "code",
   "execution_count": 107,
   "outputs": [
    {
     "name": "stdout",
     "output_type": "stream",
     "text": [
      "Empty DataFrame\n",
      "Columns: [Doc_ID, Text_ID, Text, Coref_Clusters]\n",
      "Index: []\n"
     ]
    }
   ],
   "source": [
    "coref_df = pd.DataFrame(columns=['Doc_ID', 'Text_ID', 'Text', 'Coref_Clusters'])\n",
    "print(coref_df)\n"
   ],
   "metadata": {
    "collapsed": false,
    "pycharm": {
     "name": "#%%\n"
    }
   }
  },
  {
   "cell_type": "code",
   "execution_count": 99,
   "outputs": [],
   "source": [
    "def get_coref_clusters(path, document_id):\n",
    "    temp_df = pd.DataFrame(columns=['Doc_ID', 'Text_ID', 'Text', 'Coref_Clusters'])\n",
    "\n",
    "    with open(path, 'r') as file:\n",
    "        lines = file.readlines()\n",
    "\n",
    "        text_id = 0\n",
    "        text = []\n",
    "        coref_clusters = {}\n",
    "        temp_clusters = {}\n",
    "\n",
    "        for line in lines:\n",
    "            if line == '\\n':\n",
    "                temp_df = temp_df.append({'Doc_ID': document_id,\n",
    "                                          'Text_ID': document_id + '-' + text_id,\n",
    "                                          'Text': text,\n",
    "                                          'Coref_Clusters': list(coref_clusters.values())},\n",
    "                                         ignore_index=True)\n",
    "                text = []\n",
    "                coref_clusters = {}\n",
    "                temp_clusters = {}\n",
    "            elif not line.startswith('#'):\n",
    "                columns = line.split()\n",
    "                text_id = columns[1]\n",
    "                text.append(columns[3])\n",
    "                coref_column = columns[12]\n",
    "                index = int(columns[2])\n",
    "                if not coref_column == '-':\n",
    "                    corefs = coref_column.split('|')\n",
    "                    for coref in corefs:\n",
    "                        key = coref.strip('()')\n",
    "                        if re.match(r'\\([0-9]+\\)', coref):\n",
    "                            coref_clusters.setdefault(key, []).append([index])\n",
    "                        if re.match(r'^\\([0-9]+$', coref):\n",
    "                            temp_clusters.setdefault(key, []).append(index)\n",
    "                        if re.match(r'^[0-9]+\\)$', coref):\n",
    "                            temp_clusters.setdefault(key, []).append(index)\n",
    "                            cluster_span = temp_clusters.pop(key)\n",
    "                            coref_clusters.setdefault(key, []).append(cluster_span)\n",
    "    return temp_df"
   ],
   "metadata": {
    "collapsed": false,
    "pycharm": {
     "name": "#%%\n"
    }
   }
  },
  {
   "cell_type": "code",
   "execution_count": 108,
   "outputs": [
    {
     "data": {
      "text/plain": "    Doc_ID   Text_ID                                               Text  \\\n0     kk14  kk14-001  [Det, blev, en, vidrig, resa, men, eftersom, d...   \n1     kk14  kk14-002  [Vi, reste, bland, indier, och, de, hindrade, ...   \n2     kk14  kk14-003  [När, vi, bad, att, få, låna, en, gryta, blev,...   \n3     kk14  kk14-004  [Vi, var, inte, rena, nog, att, röra, vid, der...   \n4     kk14  kk14-005  [Två, stormar, överföll, oss, ,, några, dog, o...   \n..     ...       ...                                                ...   \n245   ea12  ea12-264  [I, regel, väljer, den, dock, brandskadade, tr...   \n246   ea12  ea12-265  [Larven, ,, som, kan, bli, 40, mm, lång, ,, gn...   \n247   ea12  ea12-266  [Den, förpuppas, också, där, och, tar, sig, ut...   \n248   ea12  ea12-267              [Hela, utvecklingen, tar, 2-3, år, .]   \n249   ea12  ea12-268  [Man, tycker, att, larven, skulle, vara, väl, ...   \n\n                     Coref_Clusters  \n0                          [[[13]]]  \n1    [[[1], [8], [12]], [[4], [6]]]  \n2                   [[[2]], [[10]]]  \n3                    [[[1]], [[9]]]  \n4                           [[[4]]]  \n..                              ...  \n245                         [[[4]]]  \n246                         [[[1]]]  \n247                    [[[1], [7]]]  \n248                              []  \n249                   [[[4], [21]]]  \n\n[1548 rows x 4 columns]",
      "text/html": "<div>\n<style scoped>\n    .dataframe tbody tr th:only-of-type {\n        vertical-align: middle;\n    }\n\n    .dataframe tbody tr th {\n        vertical-align: top;\n    }\n\n    .dataframe thead th {\n        text-align: right;\n    }\n</style>\n<table border=\"1\" class=\"dataframe\">\n  <thead>\n    <tr style=\"text-align: right;\">\n      <th></th>\n      <th>Doc_ID</th>\n      <th>Text_ID</th>\n      <th>Text</th>\n      <th>Coref_Clusters</th>\n    </tr>\n  </thead>\n  <tbody>\n    <tr>\n      <th>0</th>\n      <td>kk14</td>\n      <td>kk14-001</td>\n      <td>[Det, blev, en, vidrig, resa, men, eftersom, d...</td>\n      <td>[[[13]]]</td>\n    </tr>\n    <tr>\n      <th>1</th>\n      <td>kk14</td>\n      <td>kk14-002</td>\n      <td>[Vi, reste, bland, indier, och, de, hindrade, ...</td>\n      <td>[[[1], [8], [12]], [[4], [6]]]</td>\n    </tr>\n    <tr>\n      <th>2</th>\n      <td>kk14</td>\n      <td>kk14-003</td>\n      <td>[När, vi, bad, att, få, låna, en, gryta, blev,...</td>\n      <td>[[[2]], [[10]]]</td>\n    </tr>\n    <tr>\n      <th>3</th>\n      <td>kk14</td>\n      <td>kk14-004</td>\n      <td>[Vi, var, inte, rena, nog, att, röra, vid, der...</td>\n      <td>[[[1]], [[9]]]</td>\n    </tr>\n    <tr>\n      <th>4</th>\n      <td>kk14</td>\n      <td>kk14-005</td>\n      <td>[Två, stormar, överföll, oss, ,, några, dog, o...</td>\n      <td>[[[4]]]</td>\n    </tr>\n    <tr>\n      <th>...</th>\n      <td>...</td>\n      <td>...</td>\n      <td>...</td>\n      <td>...</td>\n    </tr>\n    <tr>\n      <th>245</th>\n      <td>ea12</td>\n      <td>ea12-264</td>\n      <td>[I, regel, väljer, den, dock, brandskadade, tr...</td>\n      <td>[[[4]]]</td>\n    </tr>\n    <tr>\n      <th>246</th>\n      <td>ea12</td>\n      <td>ea12-265</td>\n      <td>[Larven, ,, som, kan, bli, 40, mm, lång, ,, gn...</td>\n      <td>[[[1]]]</td>\n    </tr>\n    <tr>\n      <th>247</th>\n      <td>ea12</td>\n      <td>ea12-266</td>\n      <td>[Den, förpuppas, också, där, och, tar, sig, ut...</td>\n      <td>[[[1], [7]]]</td>\n    </tr>\n    <tr>\n      <th>248</th>\n      <td>ea12</td>\n      <td>ea12-267</td>\n      <td>[Hela, utvecklingen, tar, 2-3, år, .]</td>\n      <td>[]</td>\n    </tr>\n    <tr>\n      <th>249</th>\n      <td>ea12</td>\n      <td>ea12-268</td>\n      <td>[Man, tycker, att, larven, skulle, vara, väl, ...</td>\n      <td>[[[4], [21]]]</td>\n    </tr>\n  </tbody>\n</table>\n<p>1548 rows × 4 columns</p>\n</div>"
     },
     "metadata": {},
     "output_type": "display_data"
    }
   ],
   "source": [
    "for path in glob.iglob('data/datasets/suc-core-mod/' + '*.conll'):\n",
    "    filename = path.split('/')[-1]\n",
    "    document_id = filename.split('-')[0]\n",
    "    df = get_coref_clusters(path, document_id)\n",
    "    coref_df = coref_df.append(df)\n",
    "\n",
    "display(coref_df)\n",
    "coref_df.to_pickle('data/coref.pkl')"
   ],
   "metadata": {
    "collapsed": false,
    "pycharm": {
     "name": "#%%\n"
    }
   }
  },
  {
   "cell_type": "code",
   "execution_count": null,
   "outputs": [],
   "source": [
    "# TODO: get text and translate. check tokenization? create alignments.\n",
    "#       create aligned clusters."
   ],
   "metadata": {
    "collapsed": false,
    "pycharm": {
     "name": "#%%\n"
    }
   }
  }
 ],
 "metadata": {
  "kernelspec": {
   "display_name": "Python 3",
   "language": "python",
   "name": "python3"
  },
  "language_info": {
   "codemirror_mode": {
    "name": "ipython",
    "version": 2
   },
   "file_extension": ".py",
   "mimetype": "text/x-python",
   "name": "python",
   "nbconvert_exporter": "python",
   "pygments_lexer": "ipython2",
   "version": "2.7.6"
  }
 },
 "nbformat": 4,
 "nbformat_minor": 0
}